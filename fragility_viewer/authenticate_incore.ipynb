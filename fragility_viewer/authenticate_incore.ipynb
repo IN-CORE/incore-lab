{
 "cells": [
  {
   "cell_type": "code",
   "execution_count": null,
   "metadata": {},
   "outputs": [],
   "source": [
    "import requests\n",
    "import base64\n",
    "import json\n",
    "import getpass"
   ]
  },
  {
   "cell_type": "markdown",
   "metadata": {},
   "source": [
    "### input your username and password below"
   ]
  },
  {
   "cell_type": "code",
   "execution_count": null,
   "metadata": {},
   "outputs": [],
   "source": [
    "print('input your username and then press ENTER')\n",
    "username = input()"
   ]
  },
  {
   "cell_type": "code",
   "execution_count": null,
   "metadata": {},
   "outputs": [],
   "source": [
    "print('input your password and then press ENTER')\n",
    "password = getpass.getpass()"
   ]
  },
  {
   "cell_type": "markdown",
   "metadata": {},
   "source": [
    "### Initial ldap-based authentication\n",
    "- For the initial ldap authentication, the user or browser should make a request to /maestro/api/login with the following headers:\n",
    "\n",
    "#### Authorization: LDAP [base64EncodedCredential]\n",
    "- where [base64EncodeCredential] is username:password encoded via base64.  \n",
    "- example: for username \"userfoo\" and password \"passsword\", you would do a base64 encoding of \"userfoo:pasword\", which would give dXNlcmZvbzpwYSQkd29yZA==)"
   ]
  },
  {
   "cell_type": "code",
   "execution_count": null,
   "metadata": {},
   "outputs": [],
   "source": [
    "base64_encoded_token = base64.b64encode((username + ':' + password).encode('utf-8')).decode('utf-8')\n",
    "base64_encoded_token"
   ]
  },
  {
   "cell_type": "code",
   "execution_count": null,
   "metadata": {},
   "outputs": [],
   "source": [
    "url = \"https://incore2-services.ncsa.illinois.edu/auth/api/login\"\n",
    "r = requests.get(url, headers={\"Authorization\" : \"LDAP \" + base64_encoded_token})\n",
    "if r.status_code == 200:\n",
    "    user_json = {\"auth-user\": username, \n",
    "                 \"auth-token\": r.json()['auth-token'],\n",
    "                \"Authorization\": \"LDAP \" + r.json()['auth-token']}\n",
    "    with open('user.json', 'w') as fp:\n",
    "        json.dump(user_json, fp)\n",
    "    print('user.json successfully saved in your home directory. This file contains credentials to ' +\n",
    "        'access incore services, please do not share with other people!')\n",
    "else:\n",
    "    print('It is likely that you have provided the wrong password and/or username. Please double check!\\nError see below:')\n",
    "    print(r.text)"
   ]
  },
  {
   "cell_type": "code",
   "execution_count": null,
   "metadata": {},
   "outputs": [],
   "source": []
  }
 ],
 "metadata": {
  "kernelspec": {
   "display_name": "Python 3",
   "language": "python",
   "name": "python3"
  },
  "language_info": {
   "codemirror_mode": {
    "name": "ipython",
    "version": 3
   },
   "file_extension": ".py",
   "mimetype": "text/x-python",
   "name": "python",
   "nbconvert_exporter": "python",
   "pygments_lexer": "ipython3",
   "version": "3.6.4"
  }
 },
 "nbformat": 4,
 "nbformat_minor": 2
}
